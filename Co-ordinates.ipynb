{
 "cells": [
  {
   "cell_type": "code",
   "execution_count": 4,
   "id": "ac69b07e",
   "metadata": {},
   "outputs": [],
   "source": [
    "#Importing the Nominatim geocoder class \n",
    "from geopy.geocoders import Nominatim\n",
    "import time\n",
    "from pprint import pprint"
   ]
  },
  {
   "cell_type": "code",
   "execution_count": 5,
   "id": "0d575099",
   "metadata": {},
   "outputs": [
    {
     "name": "stdout",
     "output_type": "stream",
     "text": [
      "Onze-Lieve-Vrouwekathedraal, 21, Groenplaats, Wilde Zee, Antwerpen, Vlaanderen, 2000, België / Belgique / Belgien\n",
      "{'place_id': 107857775, 'licence': 'Data © OpenStreetMap contributors, ODbL 1.0. https://osm.org/copyright', 'osm_type': 'way', 'osm_id': 26495164, 'boundingbox': ['51.2199386', '51.2206319', '4.4004211', '4.4022372'], 'lat': '51.22027995', 'lon': '4.4013402883307045', 'display_name': 'Onze-Lieve-Vrouwekathedraal, 21, Groenplaats, Wilde Zee, Antwerpen, Vlaanderen, 2000, België / Belgique / Belgien', 'class': 'amenity', 'type': 'place_of_worship', 'importance': 0.8700265901815692, 'icon': 'https://nominatim.openstreetmap.org/ui/mapicons//place_of_worship_unknown3.p.20.png'}\n"
     ]
    }
   ],
   "source": [
    "# address we need to geocode\n",
    "loc = 'Groenplaats 21, 2000 Antwerpen'\n",
    " \n",
    "#making an instance of Nominatim class\n",
    "geolocator = Nominatim(user_agent=\"my_request\")\n",
    " \n",
    "#applying geocode method to get the location\n",
    "location = geolocator.geocode(loc, timeout = 10)\n",
    " \n",
    "#printing address and raw data\n",
    "print(location)\n",
    "\n",
    "print(location.raw)"
   ]
  },
  {
   "cell_type": "code",
   "execution_count": 26,
   "id": "746828cd",
   "metadata": {},
   "outputs": [
    {
     "name": "stdout",
     "output_type": "stream",
     "text": [
      "(51.22027995, 4.4013402883307045)\n",
      "['51.2199386', '51.2206319', '4.4004211', '4.4022372']\n"
     ]
    }
   ],
   "source": [
    "# Coordinates of the address\n",
    "Coordinates = ((location.latitude, location.longitude))\n",
    "print(Coordinates)\n",
    "\n",
    "# To get the bounding box of the location\n",
    "Bounding_Box = location.raw['boundingbox']\n",
    "print(Bounding_Box)"
   ]
  },
  {
   "cell_type": "code",
   "execution_count": null,
   "id": "564b74eb",
   "metadata": {},
   "outputs": [],
   "source": [
    "# Using pyproj to convert the EPSG to Belgian Lambert 72"
   ]
  },
  {
   "cell_type": "code",
   "execution_count": 25,
   "id": "91c63770",
   "metadata": {},
   "outputs": [
    {
     "data": {
      "text/plain": [
       "(152276.44559004295, 212259.79616476875)"
      ]
     },
     "execution_count": 25,
     "metadata": {},
     "output_type": "execute_result"
    }
   ],
   "source": [
    "# import pyproj\n",
    "\n",
    "\n",
    "# # Define some common projections using EPSG codes \n",
    "# wgs84 = pyproj.CRS(\"EPSG:4326\") # LatLon with WGS84 datum used by GPS units and Google Earth \n",
    "# belge72 = pyproj.CRS(\"EPSG:31370\") # Unit: metre, Geodetic CRS: Belge 1972 ,Datum: Reseau National Belge 1972\n",
    "\n",
    "# x, y = pyproj.transform(wgs84, belge72, location.longitude, location.latitude)\n",
    "# print(x, y)\n",
    "\n",
    "from pyproj import Transformer\n",
    "transformer = Transformer.from_crs(\"epsg:4326\", \"epsg:31370\")\n",
    "transformer.transform(location.latitude, location.longitude)\n"
   ]
  },
  {
   "cell_type": "code",
   "execution_count": null,
   "id": "af994681",
   "metadata": {},
   "outputs": [],
   "source": [
    "# Creating a Polygon using the coordinates"
   ]
  },
  {
   "cell_type": "code",
   "execution_count": 48,
   "id": "29c0df63",
   "metadata": {},
   "outputs": [],
   "source": [
    "import shapely.geometry"
   ]
  },
  {
   "cell_type": "code",
   "execution_count": 49,
   "id": "1ed0305e",
   "metadata": {},
   "outputs": [
    {
     "name": "stdout",
     "output_type": "stream",
     "text": [
      "(152276.44559004295, 152276.4460004295, 212259.79616476875, 212259.79716476874)\n"
     ]
    },
    {
     "data": {
      "text/plain": [
       "'POLYGON ((212259.7961647687 152276.4460004295, 212259.7961647687 212259.7971647687, 152276.4455900429 212259.7971647687, 152276.4455900429 152276.4460004295, 212259.7961647687 152276.4460004295))'"
      ]
     },
     "execution_count": 49,
     "metadata": {},
     "output_type": "execute_result"
    }
   ],
   "source": [
    "bbox = (152276.44559004295, 152276.4460004295, 212259.79616476875, 212259.79716476875 )\n",
    "polygon = shapely.geometry.box(*bbox, ccw=True)\n",
    "polygon\n",
    "bounds = print(polygon.bounds)\n",
    "polygon.wkt"
   ]
  },
  {
   "cell_type": "code",
   "execution_count": 32,
   "id": "f01f75c9",
   "metadata": {},
   "outputs": [
    {
     "data": {
      "text/plain": [
       "[<matplotlib.lines.Line2D at 0x22bc21fcac8>]"
      ]
     },
     "execution_count": 32,
     "metadata": {},
     "output_type": "execute_result"
    },
    {
     "data": {
      "image/png": "[encoded data removed]",
      "text/plain": [
       "<Figure size 432x288 with 1 Axes>"
      ]
     },
     "metadata": {
      "needs_background": "light"
     },
     "output_type": "display_data"
    }
   ],
   "source": [
    "import matplotlib.pyplot as plt\n",
    "\n",
    "x,y = polygon.exterior.xy\n",
    "plt.plot(x,y)"
   ]
  },
  {
   "cell_type": "code",
   "execution_count": null,
   "id": "6058b2f1",
   "metadata": {},
   "outputs": [],
   "source": []
  },
  {
   "cell_type": "code",
   "execution_count": null,
   "id": "ca6a6919",
   "metadata": {},
   "outputs": [],
   "source": []
  },
  {
   "cell_type": "code",
   "execution_count": 17,
   "id": "15a57850",
   "metadata": {},
   "outputs": [
    {
     "data": {
      "text/html": [
       "<div>\n",
       "<style scoped>\n",
       "    .dataframe tbody tr th:only-of-type {\n",
       "        vertical-align: middle;\n",
       "    }\n",
       "\n",
       "    .dataframe tbody tr th {\n",
       "        vertical-align: top;\n",
       "    }\n",
       "\n",
       "    .dataframe thead th {\n",
       "        text-align: right;\n",
       "    }\n",
       "</style>\n",
       "<table border=\"1\" class=\"dataframe\">\n",
       "  <thead>\n",
       "    <tr style=\"text-align: right;\">\n",
       "      <th></th>\n",
       "      <th>geometry</th>\n",
       "      <th>address</th>\n",
       "    </tr>\n",
       "  </thead>\n",
       "  <tbody>\n",
       "    <tr>\n",
       "      <th>0</th>\n",
       "      <td>POINT (4.40410 51.21263)</td>\n",
       "      <td>17, Maarschalk Gérardstraat, Wilde Zee, Antwer...</td>\n",
       "    </tr>\n",
       "  </tbody>\n",
       "</table>\n",
       "</div>"
      ],
      "text/plain": [
       "                   geometry                                            address\n",
       "0  POINT (4.40410 51.21263)  17, Maarschalk Gérardstraat, Wilde Zee, Antwer..."
      ]
     },
     "execution_count": 17,
     "metadata": {},
     "output_type": "execute_result"
    }
   ],
   "source": [
    "# #import requires modules\n",
    "# from geopandas.tools import geocode\n",
    " \n",
    "# #address we need to locate\n",
    "# loc = '17 Maarschalk Gerardstraat, 2000 Antwerpen'\n",
    " \n",
    "# #finding the location\n",
    "# location = geocode(loc, provider=\"nominatim\" , user_agent = 'my_request', timeout = 10)\n",
    " \n",
    "# location"
   ]
  },
  {
   "cell_type": "code",
   "execution_count": null,
   "id": "63a95144",
   "metadata": {},
   "outputs": [],
   "source": [
    "# Function to search co-ordinates in .tif files"
   ]
  }
 ],
 "metadata": {
  "kernelspec": {
   "display_name": "myenv",
   "language": "python",
   "name": "myenv"
  },
  "language_info": {
   "codemirror_mode": {
    "name": "ipython",
    "version": 3
   },
   "file_extension": ".py",
   "mimetype": "text/x-python",
   "name": "python",
   "nbconvert_exporter": "python",
   "pygments_lexer": "ipython3",
   "version": "3.6.13"
  }
 },
 "nbformat": 4,
 "nbformat_minor": 5
}
