{
 "cells": [
  {
   "cell_type": "code",
   "execution_count": 23,
   "id": "ac69b07e",
   "metadata": {},
   "outputs": [],
   "source": [
    "#Importing the Nominatim geocoder class \n",
    "from geopy.geocoders import Nominatim\n",
    "import time\n",
    "from pprint import pprint"
   ]
  },
  {
   "cell_type": "code",
   "execution_count": 26,
   "id": "0d575099",
   "metadata": {},
   "outputs": [
    {
     "name": "stdout",
     "output_type": "stream",
     "text": [
      "(51.212633350000004, 4.404098535527878)\n"
     ]
    }
   ],
   "source": [
    "# address we need to geocode\n",
    "loc = '17 Maarschalk Gerardstraat, 2000 Antwerpen'\n",
    " \n",
    "#making an instance of Nominatim class\n",
    "geolocator = Nominatim(user_agent=\"my_request\")\n",
    " \n",
    "#applying geocode method to get the location\n",
    "location = geolocator.geocode(loc, timeout = 1000)\n",
    " \n",
    "#printing address and coordinates\n",
    "print((location.latitude, location.longitude))"
   ]
  },
  {
   "cell_type": "code",
   "execution_count": 17,
   "id": "15a57850",
   "metadata": {},
   "outputs": [
    {
     "data": {
      "text/html": [
       "<div>\n",
       "<style scoped>\n",
       "    .dataframe tbody tr th:only-of-type {\n",
       "        vertical-align: middle;\n",
       "    }\n",
       "\n",
       "    .dataframe tbody tr th {\n",
       "        vertical-align: top;\n",
       "    }\n",
       "\n",
       "    .dataframe thead th {\n",
       "        text-align: right;\n",
       "    }\n",
       "</style>\n",
       "<table border=\"1\" class=\"dataframe\">\n",
       "  <thead>\n",
       "    <tr style=\"text-align: right;\">\n",
       "      <th></th>\n",
       "      <th>geometry</th>\n",
       "      <th>address</th>\n",
       "    </tr>\n",
       "  </thead>\n",
       "  <tbody>\n",
       "    <tr>\n",
       "      <th>0</th>\n",
       "      <td>POINT (4.40410 51.21263)</td>\n",
       "      <td>17, Maarschalk Gérardstraat, Wilde Zee, Antwer...</td>\n",
       "    </tr>\n",
       "  </tbody>\n",
       "</table>\n",
       "</div>"
      ],
      "text/plain": [
       "                   geometry                                            address\n",
       "0  POINT (4.40410 51.21263)  17, Maarschalk Gérardstraat, Wilde Zee, Antwer..."
      ]
     },
     "execution_count": 17,
     "metadata": {},
     "output_type": "execute_result"
    }
   ],
   "source": [
    "#import requires modules\n",
    "from geopandas.tools import geocode\n",
    " \n",
    "#address we need to locate\n",
    "loc = '17 Maarschalk Gerardstraat, 2000 Antwerpen'\n",
    " \n",
    "#finding the location\n",
    "location = geocode(loc, provider=\"nominatim\" , user_agent = 'my_request', timeout = 10)\n",
    " \n",
    "location"
   ]
  },
  {
   "cell_type": "code",
   "execution_count": null,
   "id": "63a95144",
   "metadata": {},
   "outputs": [],
   "source": []
  }
 ],
 "metadata": {
  "kernelspec": {
   "display_name": "myenv",
   "language": "python",
   "name": "myenv"
  },
  "language_info": {
   "codemirror_mode": {
    "name": "ipython",
    "version": 3
   },
   "file_extension": ".py",
   "mimetype": "text/x-python",
   "name": "python",
   "nbconvert_exporter": "python",
   "pygments_lexer": "ipython3",
   "version": "3.6.13"
  }
 },
 "nbformat": 4,
 "nbformat_minor": 5
}
