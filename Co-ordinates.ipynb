{
 "cells": [
  {
   "cell_type": "code",
   "execution_count": 71,
   "id": "ac69b07e",
   "metadata": {},
   "outputs": [],
   "source": [
    "#Importing the Nominatim geocoder class \n",
    "from geopy.geocoders import Nominatim\n",
    "import time\n",
    "from pprint import pprint"
   ]
  },
  {
   "cell_type": "code",
   "execution_count": 128,
   "id": "0d575099",
   "metadata": {},
   "outputs": [
    {
     "name": "stdout",
     "output_type": "stream",
     "text": [
      "Location(17, Maarschalk Gérardstraat, Wilde Zee, Antwerpen, Vlaanderen, 2000, België / Belgique / Belgien, (51.212633350000004, 4.404098535527878, 0.0))\n",
      "{'boundingbox': ['51.2125604', '51.2127006', '4.403969', '4.4042394'],\n",
      " 'class': 'building',\n",
      " 'display_name': '17, Maarschalk Gérardstraat, Wilde Zee, Antwerpen, '\n",
      "                 'Vlaanderen, 2000, België / Belgique / Belgien',\n",
      " 'importance': 0.431,\n",
      " 'lat': '51.212633350000004',\n",
      " 'licence': 'Data © OpenStreetMap contributors, ODbL 1.0. '\n",
      "            'https://osm.org/copyright',\n",
      " 'lon': '4.404098535527878',\n",
      " 'osm_id': 494692177,\n",
      " 'osm_type': 'way',\n",
      " 'place_id': 209407974,\n",
      " 'type': 'yes'}\n"
     ]
    }
   ],
   "source": [
    "# address we need to geocode\n",
    "loc = '17 Maarschalk Gerardstraat, 2000 Antwerpen'\n",
    " \n",
    "#making an instance of Nominatim class\n",
    "geolocator = Nominatim(user_agent=\"my_request\")\n",
    " \n",
    "#applying geocode method to get the location\n",
    "location = geolocator.geocode(loc, timeout = 10)\n",
    " \n",
    "#printing address and raw data\n",
    "pprint(location)\n",
    "\n",
    "pprint(location.raw)"
   ]
  },
  {
   "cell_type": "code",
   "execution_count": 129,
   "id": "0acec896",
   "metadata": {},
   "outputs": [
    {
     "data": {
      "text/plain": [
       "[[[4.403969, 51.2126528],\n",
       "  [4.4041879, 51.2125604],\n",
       "  [4.4042394, 51.2126082],\n",
       "  [4.4042287, 51.2126139],\n",
       "  [4.4040205, 51.2127006],\n",
       "  [4.403969, 51.2126528]]]"
      ]
     },
     "execution_count": 129,
     "metadata": {},
     "output_type": "execute_result"
    }
   ],
   "source": [
    "import requests\n",
    "import json\n",
    "\n",
    "url = f'http://nominatim.openstreetmap.org/search?q={loc}&polygon_geojson=1&format=json&limit=1'\n",
    "\n",
    "r = requests.get(url)\n",
    "\n",
    "response = r.json()\n",
    "\n",
    "polygon = response[0]['geojson']['coordinates']\n",
    "polygon\n",
    "\n"
   ]
  },
  {
   "cell_type": "code",
   "execution_count": 115,
   "id": "746828cd",
   "metadata": {},
   "outputs": [
    {
     "name": "stdout",
     "output_type": "stream",
     "text": [
      "(51.212633350000004, 4.404098535527878)\n",
      "['51.2125604', '51.2127006', '4.403969', '4.4042394']\n"
     ]
    }
   ],
   "source": [
    "# Coordinates of the address\n",
    "Coordinates = ((location.latitude, location.longitude))\n",
    "print(Coordinates)\n",
    "\n",
    "# To get the bounding box of the location\n",
    "Bounding_Box = location.raw['boundingbox']\n",
    "print(Bounding_Box)"
   ]
  },
  {
   "cell_type": "code",
   "execution_count": 116,
   "id": "564b74eb",
   "metadata": {},
   "outputs": [],
   "source": [
    "# Using pyproj to convert the EPSG to Belgian Lambert 72"
   ]
  },
  {
   "cell_type": "code",
   "execution_count": 117,
   "id": "91c63770",
   "metadata": {},
   "outputs": [
    {
     "data": {
      "text/plain": [
       "(152469.56618201005, 211409.1678763628)"
      ]
     },
     "execution_count": 117,
     "metadata": {},
     "output_type": "execute_result"
    }
   ],
   "source": [
    "# import pyproj\n",
    "\n",
    "\n",
    "# # Define some common projections using EPSG codes \n",
    "# wgs84 = pyproj.CRS(\"EPSG:4326\") # LatLon with WGS84 datum used by GPS units and Google Earth \n",
    "# belge72 = pyproj.CRS(\"EPSG:31370\") # Unit: metre, Geodetic CRS: Belge 1972 ,Datum: Reseau National Belge 1972\n",
    "\n",
    "# x, y = pyproj.transform(wgs84, belge72, location.longitude, location.latitude)\n",
    "# print(x, y)\n",
    "\n",
    "from pyproj import Transformer\n",
    "transformer = Transformer.from_crs(\"epsg:4326\", \"epsg:31370\")\n",
    "transformer.transform(location.latitude, location.longitude)\n"
   ]
  },
  {
   "cell_type": "code",
   "execution_count": 118,
   "id": "be5a6802",
   "metadata": {},
   "outputs": [
    {
     "data": {
      "text/plain": [
       "[(152276.44559004295, 212259.79616476875),\n",
       " (152276.44559004295, 212259.79616476875)]"
      ]
     },
     "execution_count": 118,
     "metadata": {},
     "output_type": "execute_result"
    }
   ],
   "source": [
    "def bounding_box(points):\n",
    "    x_coordinates, y_coordinates = zip(points)\n",
    "\n",
    "    return [(min(x_coordinates), min(y_coordinates)), (max(x_coordinates), max(y_coordinates))]\n",
    "\n",
    "points = 152276.44559004295, 212259.79616476875\n",
    "bounding_box(points)"
   ]
  },
  {
   "cell_type": "code",
   "execution_count": 119,
   "id": "29c0df63",
   "metadata": {},
   "outputs": [],
   "source": [
    "import shapely.geometry"
   ]
  },
  {
   "cell_type": "code",
   "execution_count": 122,
   "id": "1ed0305e",
   "metadata": {},
   "outputs": [
    {
     "name": "stdout",
     "output_type": "stream",
     "text": [
      "(152276.44559004295, 152276.4460004295, 212259.79616476875, 212259.79716476874)\n"
     ]
    },
    {
     "data": {
      "text/plain": [
       "'POLYGON ((212259.7961647687 152276.4460004295, 212259.7961647687 212259.7971647687, 152276.4455900429 212259.7971647687, 152276.4455900429 152276.4460004295, 212259.7961647687 152276.4460004295))'"
      ]
     },
     "execution_count": 122,
     "metadata": {},
     "output_type": "execute_result"
    }
   ],
   "source": [
    "bbox = (152276.44559004295, 152276.4460004295, 212259.79616476875, 212259.79716476875 )\n",
    "polygon = shapely.geometry.box(*bbox, ccw=True)\n",
    "polygon\n",
    "bounds = print(polygon.bounds)\n",
    "polygon.wkt"
   ]
  },
  {
   "cell_type": "code",
   "execution_count": 133,
   "id": "f01f75c9",
   "metadata": {},
   "outputs": [
    {
     "ename": "AttributeError",
     "evalue": "'list' object has no attribute 'exterior'",
     "output_type": "error",
     "traceback": [
      "\u001b[1;31m---------------------------------------------------------------------------\u001b[0m",
      "\u001b[1;31mAttributeError\u001b[0m                            Traceback (most recent call last)",
      "\u001b[1;32m<ipython-input-133-908422b2ce45>\u001b[0m in \u001b[0;36m<module>\u001b[1;34m\u001b[0m\n\u001b[0;32m      1\u001b[0m \u001b[1;32mimport\u001b[0m \u001b[0mmatplotlib\u001b[0m\u001b[1;33m.\u001b[0m\u001b[0mpyplot\u001b[0m \u001b[1;32mas\u001b[0m \u001b[0mplt\u001b[0m\u001b[1;33m\u001b[0m\u001b[1;33m\u001b[0m\u001b[0m\n\u001b[0;32m      2\u001b[0m \u001b[1;33m\u001b[0m\u001b[0m\n\u001b[1;32m----> 3\u001b[1;33m \u001b[0mx\u001b[0m\u001b[1;33m,\u001b[0m\u001b[0my\u001b[0m \u001b[1;33m=\u001b[0m \u001b[0mpolygon\u001b[0m\u001b[1;33m.\u001b[0m\u001b[0mexterior\u001b[0m\u001b[1;33m.\u001b[0m\u001b[0mxy\u001b[0m\u001b[1;33m\u001b[0m\u001b[1;33m\u001b[0m\u001b[0m\n\u001b[0m\u001b[0;32m      4\u001b[0m \u001b[0mplt\u001b[0m\u001b[1;33m.\u001b[0m\u001b[0mplot\u001b[0m\u001b[1;33m(\u001b[0m\u001b[0mx\u001b[0m\u001b[1;33m,\u001b[0m\u001b[0my\u001b[0m\u001b[1;33m)\u001b[0m\u001b[1;33m\u001b[0m\u001b[1;33m\u001b[0m\u001b[0m\n",
      "\u001b[1;31mAttributeError\u001b[0m: 'list' object has no attribute 'exterior'"
     ]
    }
   ],
   "source": [
    "import matplotlib.pyplot as plt\n",
    "\n",
    "x,y = polygon.exterior.xy\n",
    "plt.plot(x,y)"
   ]
  },
  {
   "cell_type": "code",
   "execution_count": null,
   "id": "6058b2f1",
   "metadata": {},
   "outputs": [],
   "source": []
  },
  {
   "cell_type": "code",
   "execution_count": null,
   "id": "ca6a6919",
   "metadata": {},
   "outputs": [],
   "source": []
  },
  {
   "cell_type": "code",
   "execution_count": 10,
   "id": "15a57850",
   "metadata": {},
   "outputs": [],
   "source": [
    "# #import requires modules\n",
    "# from geopandas.tools import geocode\n",
    " \n",
    "# #address we need to locate\n",
    "# loc = '17 Maarschalk Gerardstraat, 2000 Antwerpen'\n",
    " \n",
    "# #finding the location\n",
    "# location = geocode(loc, provider=\"nominatim\" , user_agent = 'my_request', timeout = 10)\n",
    " \n",
    "# location"
   ]
  },
  {
   "cell_type": "code",
   "execution_count": 11,
   "id": "63a95144",
   "metadata": {},
   "outputs": [],
   "source": [
    "# Function to search co-ordinates in .tif files"
   ]
  }
 ],
 "metadata": {
  "kernelspec": {
   "display_name": "myenv",
   "language": "python",
   "name": "myenv"
  },
  "language_info": {
   "codemirror_mode": {
    "name": "ipython",
    "version": 3
   },
   "file_extension": ".py",
   "mimetype": "text/x-python",
   "name": "python",
   "nbconvert_exporter": "python",
   "pygments_lexer": "ipython3",
   "version": "3.6.13"
  }
 },
 "nbformat": 4,
 "nbformat_minor": 5
}
