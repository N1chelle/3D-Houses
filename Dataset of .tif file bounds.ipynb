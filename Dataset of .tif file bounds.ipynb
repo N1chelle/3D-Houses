{
 "cells": [
  {
   "cell_type": "markdown",
   "id": "6d1cada0",
   "metadata": {},
   "source": [
    "### Importing necessary libraries"
   ]
  },
  {
   "cell_type": "code",
   "execution_count": 2,
   "id": "cf725200",
   "metadata": {},
   "outputs": [],
   "source": [
    "import pandas as pd\n",
    "import numpy as np\n",
    "import rasterio as rio"
   ]
  },
  {
   "cell_type": "markdown",
   "id": "6288cf7e",
   "metadata": {},
   "source": [
    "### Making a list of DSM urls"
   ]
  },
  {
   "cell_type": "code",
   "execution_count": 4,
   "id": "30803c9f",
   "metadata": {},
   "outputs": [],
   "source": [
    "list_url = []\n",
    "for i in range(1,44):\n",
    "    if i<10:\n",
    "        page_num = str(i) + \".zip\"\n",
    "        page_num2 = str(i)+ \".tif\"\n",
    "        url = (\n",
    "            \"https://downloadagiv.blob.core.windows.net/dhm-vlaanderen-ii-dsm-raster-1m/DHMVIIDSMRAS1m_k0\" + page_num \\\n",
    "           +\"!/GeoTIFF/DHMVIIDSMRAS1m_k0\"+page_num2 )\n",
    "        list_url.append(url)\n",
    "    else:\n",
    "        page_num = str(i) + \".zip\"\n",
    "        page_num2 = str(i)+ \".tif\"\n",
    "        url = (\n",
    "                \"https://downloadagiv.blob.core.windows.net/dhm-vlaanderen-ii-dsm-raster-1m/DHMVIIDSMRAS1m_k\" + page_num \\\n",
    "            +\"!/GeoTIFF/DHMVIIDSMRAS1m_k\"+page_num2\n",
    "        )\n",
    "        list_url.append(url)"
   ]
  },
  {
   "cell_type": "markdown",
   "id": "07b68869",
   "metadata": {},
   "source": [
    "### Creating a dataset with the bounds of the .tif files"
   ]
  },
  {
   "cell_type": "code",
   "execution_count": 7,
   "id": "362c6cde",
   "metadata": {},
   "outputs": [],
   "source": [
    "list_of_dictionaries = []\n",
    "for url in list_url:\n",
    "    tr_imagery = rio.open(f'zip+{url}') \n",
    "    list_of_dictionaries.append({'DSM':url,\n",
    "        'left' :tr_imagery.bounds.left,\n",
    "            'bottom':tr_imagery.bounds.bottom,\n",
    "            'right':tr_imagery.bounds.right,\n",
    "             'top':tr_imagery.bounds.top})\n",
    "    df = pd.DataFrame(list_of_dictionaries)"
   ]
  },
  {
   "cell_type": "code",
   "execution_count": 9,
   "id": "01d82e87",
   "metadata": {},
   "outputs": [],
   "source": [
    "# Increasing the index to 1\n",
    "df.index += 1"
   ]
  },
  {
   "cell_type": "code",
   "execution_count": 10,
   "id": "15030f93",
   "metadata": {},
   "outputs": [],
   "source": [
    "# Saving the dataset as a CSV file\n",
    "csv_file = df.to_csv('Bounds.csv')"
   ]
  },
  {
   "cell_type": "markdown",
   "id": "56db6376",
   "metadata": {},
   "source": [
    "### Making a list of DTM urls and adding it as a column in the csv file"
   ]
  },
  {
   "cell_type": "code",
   "execution_count": 12,
   "id": "9fcc312f",
   "metadata": {},
   "outputs": [],
   "source": [
    "list_url = []\n",
    "for i in range(1,44):\n",
    "    if i<10:\n",
    "        page_num = str(i) + \".zip\"\n",
    "        page_num2 = str(i)+ \".tif\"\n",
    "        url = (\n",
    "            \"https://downloadagiv.blob.core.windows.net/dhm-vlaanderen-ii-dsm-raster-1m/DHMVIIDTMRAS1m_k0\" + page_num \\\n",
    "           +\"!/GeoTIFF/DHMVIIDTMRAS1m_k0\"+page_num2 )\n",
    "        list_url.append(url)\n",
    "    else:\n",
    "        page_num = str(i) + \".zip\"\n",
    "        page_num2 = str(i)+ \".tif\"\n",
    "        url = (\n",
    "                \"https://downloadagiv.blob.core.windows.net/dhm-vlaanderen-ii-dsm-raster-1m/DHMVIIDTMRAS1m_k\" + page_num \\\n",
    "            +\"!/GeoTIFF/DHMVIIDTMRAS1m_k\"+page_num2\n",
    "        )\n",
    "        list_url.append(url)"
   ]
  },
  {
   "cell_type": "code",
   "execution_count": 15,
   "id": "f4832672",
   "metadata": {},
   "outputs": [],
   "source": [
    "# Adding the DTM links to the dataframe\n",
    "df.insert(1, \"DTM\", list_url)"
   ]
  },
  {
   "cell_type": "code",
   "execution_count": 16,
   "id": "01f5b7da",
   "metadata": {},
   "outputs": [],
   "source": [
    "# Saving the changes to the .csv file\n",
    "df.to_csv('Bounds.csv')"
   ]
  }
 ],
 "metadata": {
  "kernelspec": {
   "display_name": "myenv",
   "language": "python",
   "name": "myenv"
  },
  "language_info": {
   "codemirror_mode": {
    "name": "ipython",
    "version": 3
   },
   "file_extension": ".py",
   "mimetype": "text/x-python",
   "name": "python",
   "nbconvert_exporter": "python",
   "pygments_lexer": "ipython3",
   "version": "3.6.13"
  }
 },
 "nbformat": 4,
 "nbformat_minor": 5
}
